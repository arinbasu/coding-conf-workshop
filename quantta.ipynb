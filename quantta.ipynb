{
 "cells": [
  {
   "cell_type": "code",
   "execution_count": 1,
   "metadata": {},
   "outputs": [
    {
     "name": "stderr",
     "output_type": "stream",
     "text": [
      "── \u001b[1mAttaching packages\u001b[22m ─────────────────────────────────────── tidyverse 1.2.1 ──\n",
      "\u001b[32m✔\u001b[39m \u001b[34mggplot2\u001b[39m 3.2.1     \u001b[32m✔\u001b[39m \u001b[34mpurrr  \u001b[39m 0.3.2\n",
      "\u001b[32m✔\u001b[39m \u001b[34mtibble \u001b[39m 2.1.3     \u001b[32m✔\u001b[39m \u001b[34mdplyr  \u001b[39m 0.8.3\n",
      "\u001b[32m✔\u001b[39m \u001b[34mtidyr  \u001b[39m 0.8.3     \u001b[32m✔\u001b[39m \u001b[34mstringr\u001b[39m 1.4.0\n",
      "\u001b[32m✔\u001b[39m \u001b[34mreadr  \u001b[39m 1.3.1     \u001b[32m✔\u001b[39m \u001b[34mforcats\u001b[39m 0.4.0\n",
      "── \u001b[1mConflicts\u001b[22m ────────────────────────────────────────── tidyverse_conflicts() ──\n",
      "\u001b[31m✖\u001b[39m \u001b[34mdplyr\u001b[39m::\u001b[32mfilter()\u001b[39m masks \u001b[34mstats\u001b[39m::filter()\n",
      "\u001b[31m✖\u001b[39m \u001b[34mdplyr\u001b[39m::\u001b[32mlag()\u001b[39m    masks \u001b[34mstats\u001b[39m::lag()\n",
      "Package version: 1.5.1\n",
      "Parallel computing: 2 of 32 threads used.\n",
      "See https://quanteda.io for tutorials and examples.\n",
      "\n",
      "Attaching package: ‘quanteda’\n",
      "\n",
      "The following object is masked from ‘jupyter:irkernel’:\n",
      "\n",
      "    View\n",
      "\n",
      "The following object is masked from ‘package:utils’:\n",
      "\n",
      "    View\n",
      "\n",
      "Loading required package: RColorBrewer\n",
      "stm v1.3.3 (2018-1-26) successfully loaded. See ?stm for help. \n",
      " Papers, resources, and other materials at structuraltopicmodel.com\n"
     ]
    }
   ],
   "source": [
    "## load the essential libraries first\n",
    "\n",
    "library(tidyverse)\n",
    "library(tidytext)\n",
    "library(quanteda)\n",
    "library(readtext)\n",
    "library(topicmodels)\n",
    "library(wordcloud)\n",
    "library(stm)\n"
   ]
  },
  {
   "cell_type": "code",
   "execution_count": 2,
   "metadata": {},
   "outputs": [
    {
     "name": "stderr",
     "output_type": "stream",
     "text": [
      "Determining mirror for Project Gutenberg from http://www.gutenberg.org/robot/harvest\n",
      "Using mirror http://aleph.gutenberg.org\n"
     ]
    }
   ],
   "source": [
    "# load some more libraries\n",
    "library(gutenbergr) # to download and use books\n",
    "# download sherlock holmes books\n",
    "sherlock <- gutenberg_download(1661)"
   ]
  },
  {
   "cell_type": "code",
   "execution_count": 3,
   "metadata": {},
   "outputs": [
    {
     "name": "stdout",
     "output_type": "stream",
     "text": [
      "Classes ‘tbl_df’, ‘tbl’ and 'data.frame':\t12648 obs. of  2 variables:\n",
      " $ gutenberg_id: int  1661 1661 1661 1661 1661 1661 1661 1661 1661 1661 ...\n",
      " $ text        : chr  \"THE ADVENTURES OF SHERLOCK HOLMES\" \"\" \"by\" \"\" ...\n"
     ]
    }
   ],
   "source": [
    "# structure of sherlock\n",
    "str(sherlock)"
   ]
  },
  {
   "cell_type": "code",
   "execution_count": 13,
   "metadata": {},
   "outputs": [],
   "source": [
    "sherlock1 <- sherlock %>% \n",
    "  mutate(story = ifelse(str_detect(text, \"ADVENTURE\"),\n",
    "                       text,\n",
    "                       NA)) %>%\n",
    " fill(story) %>%\n",
    " filter(story != \"THE ADVENTURES OF SHERLOCK HOLMES\") %>%\n",
    " select(-gutenberg_id)\n",
    "\n",
    "corp_sh <- corpus(sherlock1)\n",
    "docvars(corp_sh, \"story2\") <- NULL"
   ]
  },
  {
   "cell_type": "code",
   "execution_count": 19,
   "metadata": {},
   "outputs": [
    {
     "name": "stdout",
     "output_type": "stream",
     "text": [
      "'data.frame':\t10060 obs. of  2 variables:\n",
      " $ texts: chr  \"ADVENTURE I. A SCANDAL IN BOHEMIA\" \"I.\" \"To Sherlock Holmes she is always THE woman. I have seldom heard\" \"him mention her under any other name. In his eyes she eclipses\" ...\n",
      " $ story: chr  \"ADVENTURE I. A SCANDAL IN BOHEMIA\" \"ADVENTURE I. A SCANDAL IN BOHEMIA\" \"ADVENTURE I. A SCANDAL IN BOHEMIA\" \"ADVENTURE I. A SCANDAL IN BOHEMIA\" ...\n"
     ]
    }
   ],
   "source": [
    "corp_sh1 <- corp_sh$documents %>%\n",
    "  filter(texts != \"\")\n",
    "\n",
    "str(corp_sh1)"
   ]
  },
  {
   "cell_type": "code",
   "execution_count": 1,
   "metadata": {},
   "outputs": [],
   "source": [
    "library(twitteR)"
   ]
  },
  {
   "cell_type": "code",
   "execution_count": null,
   "metadata": {},
   "outputs": [],
   "source": []
  }
 ],
 "metadata": {
  "kernelspec": {
   "display_name": "R",
   "language": "R",
   "name": "ir"
  },
  "language_info": {
   "codemirror_mode": "r",
   "file_extension": ".r",
   "mimetype": "text/x-r-source",
   "name": "R",
   "pygments_lexer": "r",
   "version": "3.5.1"
  }
 },
 "nbformat": 4,
 "nbformat_minor": 4
}
